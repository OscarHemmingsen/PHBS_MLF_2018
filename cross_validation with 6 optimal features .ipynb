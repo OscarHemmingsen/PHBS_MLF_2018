{
 "cells": [
  {
   "cell_type": "code",
   "execution_count": 14,
   "metadata": {},
   "outputs": [
    {
     "name": "stdout",
     "output_type": "stream",
     "text": [
      "(1214, 14)\n",
      "['Attempt', 'Completion', 'Yards', 'Yards per attempt', 'Touchdowns', 'Interceptions', 'Longest', 'Sack', 'Loss', 'QB Rating', 'Points', 'Year', 'Outcome', 'Outcome_result']\n"
     ]
    },
    {
     "data": {
      "text/plain": [
       "0.7818930041152263"
      ]
     },
     "execution_count": 14,
     "metadata": {},
     "output_type": "execute_result"
    }
   ],
   "source": [
    "import pandas as pd \n",
    "import matplotlib.pyplot as plt\n",
    "%matplotlib inline\n",
    "dataset = pd.read_excel('QBStats_edited.xlsx',index_col=0)\n",
    "\n",
    "plt.savefig('data')\n",
    "dataset.head(10)\n",
    "\n",
    "\n",
    "dataset['Outcome_result'] = dataset.Outcome.map({'W':1, 'L':0})\n",
    "dataset.head()\n",
    "import matplotlib.pyplot as plt\n",
    "import pandas as pd\n",
    "from pandas.tools.plotting import table\n",
    "\n",
    "\n",
    "from sklearn import preprocessing \n",
    "import matplotlib.pyplot as plt\n",
    "%matplotlib inline\n",
    "plt.rc(\"font\",size=14)\n",
    "from sklearn.linear_model import LogisticRegression\n",
    "from sklearn.cross_validation import train_test_split\n",
    "import seaborn as sns \n",
    "sns.set(style=\"white\")\n",
    "sns.set(style=\"whitegrid\",color_codes=True)\n",
    "\n",
    "\n",
    "\n",
    "print(dataset.shape)\n",
    "print(list(dataset.columns))\n",
    "\n",
    "\n",
    "dataset1 = dataset[\"Outcome_result\"]\n",
    "dataset1.shape\n",
    "\n",
    "\n",
    "#logistic regression\n",
    "\n",
    "\n",
    "from sklearn.linear_model import LogisticRegression \n",
    "from sklearn.model_selection import train_test_split \n",
    "from sklearn import metrics \n",
    "\n",
    "cols = ['Attempt', 'Completion', 'Yards per attempt', 'Touchdowns', 'Interceptions', 'Sack']\n",
    "dataset_final = dataset[cols]\n",
    "\n",
    "X = dataset_final\n",
    "Y = dataset[\"Outcome_result\"]\n",
    "\n",
    "X_train, X_test, Y_train, Y_test = train_test_split(X, Y, test_size=0.20, random_state=6)\n",
    "\n",
    "log=LogisticRegression(penalty='l2',C=2)\n",
    "log.fit(X_train,Y_train)\n",
    "\n",
    "from sklearn.metrics import accuracy_score\n",
    "accuracy_score(Y_test,log.predict(X_test))\n"
   ]
  },
  {
   "cell_type": "code",
   "execution_count": 4,
   "metadata": {},
   "outputs": [
    {
     "data": {
      "text/plain": [
       "0.762123702573813"
      ]
     },
     "execution_count": 4,
     "metadata": {},
     "output_type": "execute_result"
    }
   ],
   "source": [
    "#new split_train_test\n",
    "X_train, X_test, Y_train, Y_test = train_test_split(X, Y, test_size=0.2, random_state=42)\n",
    "\n",
    "#Feature scaling \n",
    "from sklearn.preprocessing import StandardScaler\n",
    "sc = StandardScaler()\n",
    "X_train = sc.fit_transform(X_train)\n",
    "X_test = sc.transform(X_test)\n",
    "\n",
    "#fitting the Kernel SVM to the training split \n",
    "from sklearn.svm import SVC \n",
    "classifier = SVC(kernel = 'rbf', random_state=0)\n",
    "classifier.fit(X_train, Y_train)\n",
    "\n",
    "#Predicting the test set result \n",
    "y_pred = classifier.predict(X_test)\n",
    "\n",
    "#Making the confusion matrix\n",
    "from sklearn.metrics import confusion_matrix\n",
    "cm = confusion_matrix(Y_test, y_pred)\n",
    "\n",
    "#Applying k-fold cross validation\n",
    "from sklearn.model_selection import cross_val_score\n",
    "accuracies = cross_val_score(estimator = classifier, X = X_train, y = Y_train, cv=10)\n",
    "accuracies.mean()"
   ]
  }
 ],
 "metadata": {
  "kernelspec": {
   "display_name": "Python 3",
   "language": "python",
   "name": "python3"
  },
  "language_info": {
   "codemirror_mode": {
    "name": "ipython",
    "version": 3
   },
   "file_extension": ".py",
   "mimetype": "text/x-python",
   "name": "python",
   "nbconvert_exporter": "python",
   "pygments_lexer": "ipython3",
   "version": "3.6.5"
  }
 },
 "nbformat": 4,
 "nbformat_minor": 2
}
