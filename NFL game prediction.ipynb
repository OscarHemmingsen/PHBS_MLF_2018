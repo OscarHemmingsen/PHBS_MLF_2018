{
 "cells": [
  {
   "cell_type": "code",
   "execution_count": 58,
   "metadata": {
    "scrolled": false
   },
   "outputs": [
    {
     "data": {
      "text/html": [
       "<div>\n",
       "<style scoped>\n",
       "    .dataframe tbody tr th:only-of-type {\n",
       "        vertical-align: middle;\n",
       "    }\n",
       "\n",
       "    .dataframe tbody tr th {\n",
       "        vertical-align: top;\n",
       "    }\n",
       "\n",
       "    .dataframe thead th {\n",
       "        text-align: right;\n",
       "    }\n",
       "</style>\n",
       "<table border=\"1\" class=\"dataframe\">\n",
       "  <thead>\n",
       "    <tr style=\"text-align: right;\">\n",
       "      <th></th>\n",
       "      <th>Attempt</th>\n",
       "      <th>Completion</th>\n",
       "      <th>Yards</th>\n",
       "      <th>Yards per attempt</th>\n",
       "      <th>Touchdowns</th>\n",
       "      <th>Interceptions</th>\n",
       "      <th>Longest</th>\n",
       "      <th>Sack</th>\n",
       "      <th>Loss</th>\n",
       "      <th>QB Rating</th>\n",
       "      <th>Points</th>\n",
       "      <th>Home/Away</th>\n",
       "      <th>Year</th>\n",
       "      <th>Outcome</th>\n",
       "    </tr>\n",
       "    <tr>\n",
       "      <th>Quarterback</th>\n",
       "      <th></th>\n",
       "      <th></th>\n",
       "      <th></th>\n",
       "      <th></th>\n",
       "      <th></th>\n",
       "      <th></th>\n",
       "      <th></th>\n",
       "      <th></th>\n",
       "      <th></th>\n",
       "      <th></th>\n",
       "      <th></th>\n",
       "      <th></th>\n",
       "      <th></th>\n",
       "      <th></th>\n",
       "    </tr>\n",
       "  </thead>\n",
       "  <tbody>\n",
       "    <tr>\n",
       "      <th>Drew Brees</th>\n",
       "      <td>19</td>\n",
       "      <td>15</td>\n",
       "      <td>160</td>\n",
       "      <td>8.4</td>\n",
       "      <td>2</td>\n",
       "      <td>0</td>\n",
       "      <td>30</td>\n",
       "      <td>1</td>\n",
       "      <td>0</td>\n",
       "      <td>136.8</td>\n",
       "      <td>34</td>\n",
       "      <td>away</td>\n",
       "      <td>2002</td>\n",
       "      <td>W</td>\n",
       "    </tr>\n",
       "    <tr>\n",
       "      <th>Drew Bledsoe</th>\n",
       "      <td>39</td>\n",
       "      <td>26</td>\n",
       "      <td>271</td>\n",
       "      <td>6.9</td>\n",
       "      <td>1</td>\n",
       "      <td>2</td>\n",
       "      <td>52</td>\n",
       "      <td>4</td>\n",
       "      <td>29</td>\n",
       "      <td>73.8</td>\n",
       "      <td>31</td>\n",
       "      <td>home</td>\n",
       "      <td>2002</td>\n",
       "      <td>L</td>\n",
       "    </tr>\n",
       "    <tr>\n",
       "      <th>Peyton Manning</th>\n",
       "      <td>31</td>\n",
       "      <td>19</td>\n",
       "      <td>211</td>\n",
       "      <td>6.8</td>\n",
       "      <td>3</td>\n",
       "      <td>0</td>\n",
       "      <td>28</td>\n",
       "      <td>1</td>\n",
       "      <td>8</td>\n",
       "      <td>113.8</td>\n",
       "      <td>28</td>\n",
       "      <td>away</td>\n",
       "      <td>2002</td>\n",
       "      <td>W</td>\n",
       "    </tr>\n",
       "    <tr>\n",
       "      <th>Quincy Carter</th>\n",
       "      <td>30</td>\n",
       "      <td>13</td>\n",
       "      <td>131</td>\n",
       "      <td>4.4</td>\n",
       "      <td>0</td>\n",
       "      <td>1</td>\n",
       "      <td>31</td>\n",
       "      <td>3</td>\n",
       "      <td>19</td>\n",
       "      <td>42.5</td>\n",
       "      <td>10</td>\n",
       "      <td>away</td>\n",
       "      <td>2002</td>\n",
       "      <td>L</td>\n",
       "    </tr>\n",
       "    <tr>\n",
       "      <th>Tom Brady</th>\n",
       "      <td>43</td>\n",
       "      <td>29</td>\n",
       "      <td>294</td>\n",
       "      <td>6.8</td>\n",
       "      <td>3</td>\n",
       "      <td>0</td>\n",
       "      <td>40t</td>\n",
       "      <td>2</td>\n",
       "      <td>14</td>\n",
       "      <td>110.0</td>\n",
       "      <td>30</td>\n",
       "      <td>home</td>\n",
       "      <td>2002</td>\n",
       "      <td>W</td>\n",
       "    </tr>\n",
       "    <tr>\n",
       "      <th>Peyton Manning</th>\n",
       "      <td>45</td>\n",
       "      <td>26</td>\n",
       "      <td>289</td>\n",
       "      <td>6.4</td>\n",
       "      <td>1</td>\n",
       "      <td>3</td>\n",
       "      <td>33</td>\n",
       "      <td>0</td>\n",
       "      <td>0</td>\n",
       "      <td>56.6</td>\n",
       "      <td>13</td>\n",
       "      <td>home</td>\n",
       "      <td>2002</td>\n",
       "      <td>L</td>\n",
       "    </tr>\n",
       "    <tr>\n",
       "      <th>Quincy Carter</th>\n",
       "      <td>24</td>\n",
       "      <td>14</td>\n",
       "      <td>240</td>\n",
       "      <td>10.0</td>\n",
       "      <td>2</td>\n",
       "      <td>0</td>\n",
       "      <td>44</td>\n",
       "      <td>1</td>\n",
       "      <td>10</td>\n",
       "      <td>120.1</td>\n",
       "      <td>21</td>\n",
       "      <td>home</td>\n",
       "      <td>2002</td>\n",
       "      <td>W</td>\n",
       "    </tr>\n",
       "    <tr>\n",
       "      <th>Tom Brady</th>\n",
       "      <td>35</td>\n",
       "      <td>25</td>\n",
       "      <td>269</td>\n",
       "      <td>7.7</td>\n",
       "      <td>2</td>\n",
       "      <td>1</td>\n",
       "      <td>49t</td>\n",
       "      <td>0</td>\n",
       "      <td>0</td>\n",
       "      <td>100.8</td>\n",
       "      <td>44</td>\n",
       "      <td>away</td>\n",
       "      <td>2002</td>\n",
       "      <td>W</td>\n",
       "    </tr>\n",
       "    <tr>\n",
       "      <th>Drew Brees</th>\n",
       "      <td>28</td>\n",
       "      <td>15</td>\n",
       "      <td>163</td>\n",
       "      <td>5.8</td>\n",
       "      <td>1</td>\n",
       "      <td>1</td>\n",
       "      <td>35t</td>\n",
       "      <td>2</td>\n",
       "      <td>20</td>\n",
       "      <td>68.0</td>\n",
       "      <td>24</td>\n",
       "      <td>home</td>\n",
       "      <td>2002</td>\n",
       "      <td>W</td>\n",
       "    </tr>\n",
       "    <tr>\n",
       "      <th>Drew Bledsoe</th>\n",
       "      <td>49</td>\n",
       "      <td>35</td>\n",
       "      <td>463</td>\n",
       "      <td>9.4</td>\n",
       "      <td>3</td>\n",
       "      <td>0</td>\n",
       "      <td>48t</td>\n",
       "      <td>3</td>\n",
       "      <td>26</td>\n",
       "      <td>121.4</td>\n",
       "      <td>45</td>\n",
       "      <td>away</td>\n",
       "      <td>2002</td>\n",
       "      <td>W</td>\n",
       "    </tr>\n",
       "  </tbody>\n",
       "</table>\n",
       "</div>"
      ],
      "text/plain": [
       "                Attempt  Completion  Yards  Yards per attempt  Touchdowns  \\\n",
       "Quarterback                                                                 \n",
       "Drew Brees           19          15    160                8.4           2   \n",
       "Drew Bledsoe         39          26    271                6.9           1   \n",
       "Peyton Manning       31          19    211                6.8           3   \n",
       "Quincy Carter        30          13    131                4.4           0   \n",
       "Tom Brady            43          29    294                6.8           3   \n",
       "Peyton Manning       45          26    289                6.4           1   \n",
       "Quincy Carter        24          14    240               10.0           2   \n",
       "Tom Brady            35          25    269                7.7           2   \n",
       "Drew Brees           28          15    163                5.8           1   \n",
       "Drew Bledsoe         49          35    463                9.4           3   \n",
       "\n",
       "                Interceptions Longest  Sack  Loss  QB Rating  Points  \\\n",
       "Quarterback                                                            \n",
       "Drew Brees                  0      30     1     0      136.8      34   \n",
       "Drew Bledsoe                2      52     4    29       73.8      31   \n",
       "Peyton Manning              0      28     1     8      113.8      28   \n",
       "Quincy Carter               1      31     3    19       42.5      10   \n",
       "Tom Brady                   0     40t     2    14      110.0      30   \n",
       "Peyton Manning              3      33     0     0       56.6      13   \n",
       "Quincy Carter               0      44     1    10      120.1      21   \n",
       "Tom Brady                   1     49t     0     0      100.8      44   \n",
       "Drew Brees                  1     35t     2    20       68.0      24   \n",
       "Drew Bledsoe                0     48t     3    26      121.4      45   \n",
       "\n",
       "               Home/Away  Year Outcome  \n",
       "Quarterback                             \n",
       "Drew Brees          away  2002       W  \n",
       "Drew Bledsoe        home  2002       L  \n",
       "Peyton Manning      away  2002       W  \n",
       "Quincy Carter       away  2002       L  \n",
       "Tom Brady           home  2002       W  \n",
       "Peyton Manning      home  2002       L  \n",
       "Quincy Carter       home  2002       W  \n",
       "Tom Brady           away  2002       W  \n",
       "Drew Brees          home  2002       W  \n",
       "Drew Bledsoe        away  2002       W  "
      ]
     },
     "execution_count": 58,
     "metadata": {},
     "output_type": "execute_result"
    }
   ],
   "source": [
    "#Import libraries to Python\n",
    "import numpy as np\n",
    "import pandas as pd \n",
    "import matplotlib.pyplot as plt\n",
    "%matplotlib inline\n",
    "\n",
    "#Load our dataset into Python\n",
    "\n",
    "QB = pd.read_excel('QBStats_all_new.xlsx',index_col=0)\n",
    "\n",
    "#Below overview of how data is presented in Excel file\n",
    "\n",
    "QB.head(10)"
   ]
  },
  {
   "cell_type": "code",
   "execution_count": 60,
   "metadata": {},
   "outputs": [
    {
     "data": {
      "text/plain": [
       "(1214,)"
      ]
     },
     "execution_count": 60,
     "metadata": {},
     "output_type": "execute_result"
    }
   ],
   "source": [
    "#Based on output below, we have 1,214 data numbers. \n",
    "\n",
    "QB1 = QB['Outcome']\n",
    "QB1.shape\n"
   ]
  },
  {
   "cell_type": "code",
   "execution_count": 62,
   "metadata": {},
   "outputs": [
    {
     "name": "stdout",
     "output_type": "stream",
     "text": [
      "(1214, 15)\n",
      "['Quarterback', 'Attempt', 'Completion', 'Yards', 'Yards per attempt', 'Touchdowns', 'Interceptions', 'Longest', 'Sack', 'Loss', 'QB Rating', 'Points', 'Home/Away', 'Year', 'Outcome']\n"
     ]
    }
   ],
   "source": [
    "#Import libraries again with dataset\n",
    "\n",
    "import pandas as pd\n",
    "from sklearn import preprocessing\n",
    "import matplotlib.pyplot as plt \n",
    "plt.rc(\"font\", size=14)\n",
    "from sklearn.linear_model import LogisticRegression\n",
    "from sklearn.cross_validation import train_test_split\n",
    "import seaborn as sns\n",
    "sns.set(style=\"white\")\n",
    "sns.set(style=\"whitegrid\", color_codes=True)\n",
    "\n",
    "QB=pd.read_excel('QBStats_all_new.xlsx')\n",
    "\n",
    "#Show the columns of the dataset. We have 15 different variables, so 0-14 in Python.\n",
    "\n",
    "print(QB.shape)\n",
    "print(list(QB.columns))"
   ]
  },
  {
   "cell_type": "code",
   "execution_count": 63,
   "metadata": {},
   "outputs": [
    {
     "data": {
      "text/plain": [
       "array(['Drew Brees', 'Drew Bledsoe', 'Peyton Manning', 'Quincy Carter',\n",
       "       'Tom Brady', 'Chad Hutchinson', 'Kerry Collins',\n",
       "       'Ben Roethlisberger', 'Chad Pennington', 'Matt Ryan',\n",
       "       'Carson Palmer', 'Joe Flacco', 'Eli Manning', 'Philip Rivers',\n",
       "       'Chad Henne', 'Vince Young', 'Chris Redman', 'Rusty Smith',\n",
       "       'Matt Hasselbeck', 'Andy Dalton', 'Matt Moore', 'Curtis Painter',\n",
       "       'Dan Orlovsky', 'Ryan Fitzpatrick', 'Mark Sanchez',\n",
       "       'Brandon Weeden', 'Russell Wilson', 'Alex Smith', 'Aaron Rodgers',\n",
       "       'Colin Kaepernick', 'E.J. Manuel', 'Geno Smith', 'Matt Flynn',\n",
       "       'Kyle Orton', 'Jay Cutler', 'Brian Hoyer', 'Kirk Cousins',\n",
       "       'Blake Bortles', 'Matthew Stafford', 'Jameis Winston',\n",
       "       'Derek Carr', 'Tony Romo', 'Sam Bradford', 'Teddy Bridgewater',\n",
       "       'Matt Cassel', 'Carson Wentz', 'Dak Prescott', 'Matt Barkley'],\n",
       "      dtype=object)"
      ]
     },
     "execution_count": 63,
     "metadata": {},
     "output_type": "execute_result"
    }
   ],
   "source": [
    "#List of the different Quarterbacks in the dataset. Are there to few maybe?\n",
    "\n",
    "QB['Quarterback'].unique()"
   ]
  },
  {
   "cell_type": "code",
   "execution_count": 64,
   "metadata": {},
   "outputs": [
    {
     "data": {
      "text/plain": [
       "W    688\n",
       "L    526\n",
       "Name: Outcome, dtype: int64"
      ]
     },
     "execution_count": 64,
     "metadata": {},
     "output_type": "execute_result"
    }
   ],
   "source": [
    "#Value count of wins and losses. There is slight overweight of wins. Is this a problem?\n",
    "\n",
    "QB['Outcome'].value_counts()"
   ]
  },
  {
   "cell_type": "code",
   "execution_count": 65,
   "metadata": {},
   "outputs": [
    {
     "data": {
      "text/html": [
       "<div>\n",
       "<style scoped>\n",
       "    .dataframe tbody tr th:only-of-type {\n",
       "        vertical-align: middle;\n",
       "    }\n",
       "\n",
       "    .dataframe tbody tr th {\n",
       "        vertical-align: top;\n",
       "    }\n",
       "\n",
       "    .dataframe thead th {\n",
       "        text-align: right;\n",
       "    }\n",
       "</style>\n",
       "<table border=\"1\" class=\"dataframe\">\n",
       "  <thead>\n",
       "    <tr style=\"text-align: right;\">\n",
       "      <th></th>\n",
       "      <th>Attempt</th>\n",
       "      <th>Completion</th>\n",
       "      <th>Yards</th>\n",
       "      <th>Yards per attempt</th>\n",
       "      <th>Touchdowns</th>\n",
       "      <th>Interceptions</th>\n",
       "      <th>Sack</th>\n",
       "      <th>Loss</th>\n",
       "      <th>QB Rating</th>\n",
       "      <th>Points</th>\n",
       "      <th>Year</th>\n",
       "    </tr>\n",
       "    <tr>\n",
       "      <th>Outcome</th>\n",
       "      <th></th>\n",
       "      <th></th>\n",
       "      <th></th>\n",
       "      <th></th>\n",
       "      <th></th>\n",
       "      <th></th>\n",
       "      <th></th>\n",
       "      <th></th>\n",
       "      <th></th>\n",
       "      <th></th>\n",
       "      <th></th>\n",
       "    </tr>\n",
       "  </thead>\n",
       "  <tbody>\n",
       "    <tr>\n",
       "      <th>L</th>\n",
       "      <td>36.996198</td>\n",
       "      <td>22.186312</td>\n",
       "      <td>241.996198</td>\n",
       "      <td>6.500760</td>\n",
       "      <td>1.159696</td>\n",
       "      <td>1.319392</td>\n",
       "      <td>2.522814</td>\n",
       "      <td>16.836502</td>\n",
       "      <td>74.104183</td>\n",
       "      <td>17.072243</td>\n",
       "      <td>2011.201521</td>\n",
       "    </tr>\n",
       "    <tr>\n",
       "      <th>W</th>\n",
       "      <td>32.354651</td>\n",
       "      <td>21.186047</td>\n",
       "      <td>257.154070</td>\n",
       "      <td>8.087791</td>\n",
       "      <td>1.956395</td>\n",
       "      <td>0.489826</td>\n",
       "      <td>1.656977</td>\n",
       "      <td>10.623547</td>\n",
       "      <td>103.795058</td>\n",
       "      <td>29.062500</td>\n",
       "      <td>2011.146802</td>\n",
       "    </tr>\n",
       "  </tbody>\n",
       "</table>\n",
       "</div>"
      ],
      "text/plain": [
       "           Attempt  Completion       Yards  Yards per attempt  Touchdowns  \\\n",
       "Outcome                                                                     \n",
       "L        36.996198   22.186312  241.996198           6.500760    1.159696   \n",
       "W        32.354651   21.186047  257.154070           8.087791    1.956395   \n",
       "\n",
       "         Interceptions      Sack       Loss   QB Rating     Points  \\\n",
       "Outcome                                                              \n",
       "L             1.319392  2.522814  16.836502   74.104183  17.072243   \n",
       "W             0.489826  1.656977  10.623547  103.795058  29.062500   \n",
       "\n",
       "                Year  \n",
       "Outcome               \n",
       "L        2011.201521  \n",
       "W        2011.146802  "
      ]
     },
     "execution_count": 65,
     "metadata": {},
     "output_type": "execute_result"
    }
   ],
   "source": [
    "#The average stats of a losing QB and a winnign QB. Interesting to see that a winning QB on average throws 4.5 fewer times than\n",
    "# a losing QB. Otherwise, stats seem reasonable.\n",
    "\n",
    "QB.groupby('Outcome').mean()"
   ]
  },
  {
   "cell_type": "code",
   "execution_count": 68,
   "metadata": {},
   "outputs": [
    {
     "data": {
      "text/html": [
       "<div>\n",
       "<style scoped>\n",
       "    .dataframe tbody tr th:only-of-type {\n",
       "        vertical-align: middle;\n",
       "    }\n",
       "\n",
       "    .dataframe tbody tr th {\n",
       "        vertical-align: top;\n",
       "    }\n",
       "\n",
       "    .dataframe thead th {\n",
       "        text-align: right;\n",
       "    }\n",
       "</style>\n",
       "<table border=\"1\" class=\"dataframe\">\n",
       "  <thead>\n",
       "    <tr style=\"text-align: right;\">\n",
       "      <th></th>\n",
       "      <th>Attempt</th>\n",
       "      <th>Completion</th>\n",
       "      <th>Yards</th>\n",
       "      <th>Yards per attempt</th>\n",
       "      <th>Touchdowns</th>\n",
       "      <th>Interceptions</th>\n",
       "      <th>Sack</th>\n",
       "      <th>Loss</th>\n",
       "      <th>QB Rating</th>\n",
       "      <th>Points</th>\n",
       "      <th>Year</th>\n",
       "    </tr>\n",
       "    <tr>\n",
       "      <th>Quarterback</th>\n",
       "      <th></th>\n",
       "      <th></th>\n",
       "      <th></th>\n",
       "      <th></th>\n",
       "      <th></th>\n",
       "      <th></th>\n",
       "      <th></th>\n",
       "      <th></th>\n",
       "      <th></th>\n",
       "      <th></th>\n",
       "      <th></th>\n",
       "    </tr>\n",
       "  </thead>\n",
       "  <tbody>\n",
       "    <tr>\n",
       "      <th>Aaron Rodgers</th>\n",
       "      <td>33.846154</td>\n",
       "      <td>22.461538</td>\n",
       "      <td>277.435897</td>\n",
       "      <td>8.307692</td>\n",
       "      <td>2.307692</td>\n",
       "      <td>0.487179</td>\n",
       "      <td>2.410256</td>\n",
       "      <td>14.076923</td>\n",
       "      <td>107.705128</td>\n",
       "      <td>28.974359</td>\n",
       "      <td>2013.025641</td>\n",
       "    </tr>\n",
       "    <tr>\n",
       "      <th>Alex Smith</th>\n",
       "      <td>21.888889</td>\n",
       "      <td>15.666667</td>\n",
       "      <td>177.111111</td>\n",
       "      <td>8.200000</td>\n",
       "      <td>1.444444</td>\n",
       "      <td>0.555556</td>\n",
       "      <td>2.444444</td>\n",
       "      <td>14.222222</td>\n",
       "      <td>108.977778</td>\n",
       "      <td>22.888889</td>\n",
       "      <td>2012.000000</td>\n",
       "    </tr>\n",
       "    <tr>\n",
       "      <th>Andy Dalton</th>\n",
       "      <td>33.400000</td>\n",
       "      <td>19.333333</td>\n",
       "      <td>221.133333</td>\n",
       "      <td>6.573333</td>\n",
       "      <td>1.266667</td>\n",
       "      <td>0.866667</td>\n",
       "      <td>1.400000</td>\n",
       "      <td>9.933333</td>\n",
       "      <td>79.713333</td>\n",
       "      <td>21.133333</td>\n",
       "      <td>2011.000000</td>\n",
       "    </tr>\n",
       "    <tr>\n",
       "      <th>Ben Roethlisberger</th>\n",
       "      <td>33.523810</td>\n",
       "      <td>21.452381</td>\n",
       "      <td>276.309524</td>\n",
       "      <td>8.373810</td>\n",
       "      <td>1.523810</td>\n",
       "      <td>0.738095</td>\n",
       "      <td>2.904762</td>\n",
       "      <td>19.928571</td>\n",
       "      <td>97.404762</td>\n",
       "      <td>22.333333</td>\n",
       "      <td>2010.000000</td>\n",
       "    </tr>\n",
       "    <tr>\n",
       "      <th>Blake Bortles</th>\n",
       "      <td>38.258065</td>\n",
       "      <td>22.612903</td>\n",
       "      <td>262.741935</td>\n",
       "      <td>6.916129</td>\n",
       "      <td>1.806452</td>\n",
       "      <td>1.064516</td>\n",
       "      <td>2.645161</td>\n",
       "      <td>16.032258</td>\n",
       "      <td>84.390323</td>\n",
       "      <td>21.677419</td>\n",
       "      <td>2015.516129</td>\n",
       "    </tr>\n",
       "    <tr>\n",
       "      <th>Brandon Weeden</th>\n",
       "      <td>35.952381</td>\n",
       "      <td>20.285714</td>\n",
       "      <td>237.571429</td>\n",
       "      <td>6.680952</td>\n",
       "      <td>1.095238</td>\n",
       "      <td>1.238095</td>\n",
       "      <td>2.523810</td>\n",
       "      <td>16.857143</td>\n",
       "      <td>74.261905</td>\n",
       "      <td>19.380952</td>\n",
       "      <td>2012.333333</td>\n",
       "    </tr>\n",
       "    <tr>\n",
       "      <th>Brian Hoyer</th>\n",
       "      <td>34.700000</td>\n",
       "      <td>21.200000</td>\n",
       "      <td>248.300000</td>\n",
       "      <td>7.270000</td>\n",
       "      <td>1.900000</td>\n",
       "      <td>0.600000</td>\n",
       "      <td>2.300000</td>\n",
       "      <td>17.500000</td>\n",
       "      <td>94.560000</td>\n",
       "      <td>21.900000</td>\n",
       "      <td>2015.000000</td>\n",
       "    </tr>\n",
       "    <tr>\n",
       "      <th>Carson Palmer</th>\n",
       "      <td>35.080645</td>\n",
       "      <td>21.758065</td>\n",
       "      <td>257.548387</td>\n",
       "      <td>7.475806</td>\n",
       "      <td>1.741935</td>\n",
       "      <td>0.919355</td>\n",
       "      <td>1.887097</td>\n",
       "      <td>13.645161</td>\n",
       "      <td>90.719355</td>\n",
       "      <td>24.209677</td>\n",
       "      <td>2012.500000</td>\n",
       "    </tr>\n",
       "    <tr>\n",
       "      <th>Carson Wentz</th>\n",
       "      <td>38.600000</td>\n",
       "      <td>24.200000</td>\n",
       "      <td>242.933333</td>\n",
       "      <td>6.446667</td>\n",
       "      <td>1.000000</td>\n",
       "      <td>0.800000</td>\n",
       "      <td>2.200000</td>\n",
       "      <td>14.200000</td>\n",
       "      <td>82.313333</td>\n",
       "      <td>23.066667</td>\n",
       "      <td>2016.000000</td>\n",
       "    </tr>\n",
       "    <tr>\n",
       "      <th>Chad Henne</th>\n",
       "      <td>34.307692</td>\n",
       "      <td>21.346154</td>\n",
       "      <td>228.423077</td>\n",
       "      <td>6.630769</td>\n",
       "      <td>0.961538</td>\n",
       "      <td>1.230769</td>\n",
       "      <td>1.769231</td>\n",
       "      <td>11.461538</td>\n",
       "      <td>76.469231</td>\n",
       "      <td>22.000000</td>\n",
       "      <td>2009.461538</td>\n",
       "    </tr>\n",
       "  </tbody>\n",
       "</table>\n",
       "</div>"
      ],
      "text/plain": [
       "                      Attempt  Completion       Yards  Yards per attempt  \\\n",
       "Quarterback                                                                \n",
       "Aaron Rodgers       33.846154   22.461538  277.435897           8.307692   \n",
       "Alex Smith          21.888889   15.666667  177.111111           8.200000   \n",
       "Andy Dalton         33.400000   19.333333  221.133333           6.573333   \n",
       "Ben Roethlisberger  33.523810   21.452381  276.309524           8.373810   \n",
       "Blake Bortles       38.258065   22.612903  262.741935           6.916129   \n",
       "Brandon Weeden      35.952381   20.285714  237.571429           6.680952   \n",
       "Brian Hoyer         34.700000   21.200000  248.300000           7.270000   \n",
       "Carson Palmer       35.080645   21.758065  257.548387           7.475806   \n",
       "Carson Wentz        38.600000   24.200000  242.933333           6.446667   \n",
       "Chad Henne          34.307692   21.346154  228.423077           6.630769   \n",
       "\n",
       "                    Touchdowns  Interceptions      Sack       Loss  \\\n",
       "Quarterback                                                          \n",
       "Aaron Rodgers         2.307692       0.487179  2.410256  14.076923   \n",
       "Alex Smith            1.444444       0.555556  2.444444  14.222222   \n",
       "Andy Dalton           1.266667       0.866667  1.400000   9.933333   \n",
       "Ben Roethlisberger    1.523810       0.738095  2.904762  19.928571   \n",
       "Blake Bortles         1.806452       1.064516  2.645161  16.032258   \n",
       "Brandon Weeden        1.095238       1.238095  2.523810  16.857143   \n",
       "Brian Hoyer           1.900000       0.600000  2.300000  17.500000   \n",
       "Carson Palmer         1.741935       0.919355  1.887097  13.645161   \n",
       "Carson Wentz          1.000000       0.800000  2.200000  14.200000   \n",
       "Chad Henne            0.961538       1.230769  1.769231  11.461538   \n",
       "\n",
       "                     QB Rating     Points         Year  \n",
       "Quarterback                                             \n",
       "Aaron Rodgers       107.705128  28.974359  2013.025641  \n",
       "Alex Smith          108.977778  22.888889  2012.000000  \n",
       "Andy Dalton          79.713333  21.133333  2011.000000  \n",
       "Ben Roethlisberger   97.404762  22.333333  2010.000000  \n",
       "Blake Bortles        84.390323  21.677419  2015.516129  \n",
       "Brandon Weeden       74.261905  19.380952  2012.333333  \n",
       "Brian Hoyer          94.560000  21.900000  2015.000000  \n",
       "Carson Palmer        90.719355  24.209677  2012.500000  \n",
       "Carson Wentz         82.313333  23.066667  2016.000000  \n",
       "Chad Henne           76.469231  22.000000  2009.461538  "
      ]
     },
     "execution_count": 68,
     "metadata": {},
     "output_type": "execute_result"
    }
   ],
   "source": [
    "#Means of the different QB. Some QB are way better in the \"most\" important categories. Problem for dataset?\n",
    "\n",
    "QB.groupby('Quarterback').mean().head(10)"
   ]
  },
  {
   "cell_type": "code",
   "execution_count": 69,
   "metadata": {},
   "outputs": [
    {
     "data": {
      "text/plain": [
       "Peyton Manning        111\n",
       "Tom Brady              78\n",
       "Drew Brees             72\n",
       "Carson Palmer          62\n",
       "Philip Rivers          47\n",
       "Eli Manning            47\n",
       "Joe Flacco             45\n",
       "Russell Wilson         44\n",
       "Matt Ryan              43\n",
       "Ben Roethlisberger     42\n",
       "Name: Quarterback, dtype: int64"
      ]
     },
     "execution_count": 69,
     "metadata": {},
     "output_type": "execute_result"
    }
   ],
   "source": [
    "#Number of times the QB is listed in the dataset. P. Manning listed 111 times. Too many maybe?\n",
    "\n",
    "QB['Quarterback'].value_counts().head(10)"
   ]
  },
  {
   "cell_type": "code",
   "execution_count": 279,
   "metadata": {},
   "outputs": [
    {
     "data": {
      "image/png": "[encoded data removed]",
      "text/plain": [
       "<Figure size 432x288 with 1 Axes>"
      ]
     },
     "metadata": {},
     "output_type": "display_data"
    }
   ],
   "source": [
    "#Graph on number of touchdowns vs. outcome of the game\n",
    "\n",
    "%matplotlib inline\n",
    "\n",
    "\n",
    "pd.crosstab(QB.Touchdowns,QB.Outcome).plot(kind='bar')\n",
    "plt.title('Game outcome vs number of touchdowns')\n",
    "plt.xlabel('Number of Touchdowns')\n",
    "plt.ylabel('Frequency of W/L')\n",
    "plt.savefig('Statistik over sejre 2')  "
   ]
  },
  {
   "cell_type": "code",
   "execution_count": 270,
   "metadata": {},
   "outputs": [
    {
     "data": {
      "image/png": "[encoded data removed]",
      "text/plain": [
       "<Figure size 432x288 with 1 Axes>"
      ]
     },
     "metadata": {},
     "output_type": "display_data"
    }
   ],
   "source": [
    "#Graph on number of interceptions vs. outcome of game\n",
    "\n",
    "pd.crosstab(QB.Interceptions,QB.Outcome).plot(kind='bar')\n",
    "plt.title('Game outcome vs number of Interceptions')\n",
    "plt.xlabel('Number of Interceptions')\n",
    "plt.ylabel('Frequency of W/L')\n",
    "plt.savefig('Statistik over sejre')  "
   ]
  },
  {
   "cell_type": "code",
   "execution_count": 70,
   "metadata": {},
   "outputs": [
    {
     "data": {
      "text/plain": [
       "0.7736625514403292"
      ]
     },
     "execution_count": 70,
     "metadata": {},
     "output_type": "execute_result"
    }
   ],
   "source": [
    "#Logistic Regression. We use below variables, and let Python create a random training and test samlpe with a 80/20 percentage.\n",
    "#We have excluded year and home/away, as we where not sure yet how to preprocess it. The model has a 79.4 % accuracy prediction rate\n",
    "\n",
    "cols = [\"Attempt\",\"Completion\",\"Yards\",\"Yards per attempt\",\"Touchdowns\",\"Interceptions\",\"Sack\",\"Loss\",]\n",
    "\n",
    "QB_final = QB[cols]\n",
    "\n",
    "X = QB_final\n",
    "Y = QB1\n",
    "\n",
    "from sklearn.linear_model import LogisticRegression\n",
    "from sklearn.model_selection import train_test_split\n",
    "from sklearn import metrics\n",
    "\n",
    "X_train, X_test, Y_train, Y_test = train_test_split(X, Y, test_size=0.20, random_state=1)\n",
    "\n",
    "log=LogisticRegression(penalty='l2',C=1)\n",
    "log.fit(X_train,Y_train)\n",
    "\n",
    "from sklearn.metrics import accuracy_score\n",
    "\n",
    "accuracy_score(Y_test,log.predict(X_test))\n",
    "\n"
   ]
  },
  {
   "cell_type": "code",
   "execution_count": 71,
   "metadata": {},
   "outputs": [
    {
     "data": {
      "text/plain": [
       "array([[ 76,  35],\n",
       "       [ 20, 112]], dtype=int64)"
      ]
     },
     "execution_count": 71,
     "metadata": {},
     "output_type": "execute_result"
    }
   ],
   "source": [
    "from sklearn import metrics\n",
    "\n",
    "Y_pred=log.predict(X_test)\n",
    "\n",
    "cnf_matrix = metrics.confusion_matrix(Y_test, Y_pred)\n",
    "\n",
    "cnf_matrix"
   ]
  },
  {
   "cell_type": "code",
   "execution_count": 72,
   "metadata": {},
   "outputs": [
    {
     "data": {
      "text/plain": [
       "Text(0.5,257.44,'Predicted label')"
      ]
     },
     "execution_count": 72,
     "metadata": {},
     "output_type": "execute_result"
    },
    {
     "data": {
      "image/png": "[encoded data removed]",
      "text/plain": [
       "<Figure size 432x288 with 2 Axes>"
      ]
     },
     "metadata": {},
     "output_type": "display_data"
    }
   ],
   "source": [
    "class_names=[0,1] # name  of classes\n",
    "fig, ax = plt.subplots()\n",
    "tick_marks = np.arange(len(class_names))\n",
    "plt.xticks(tick_marks, class_names)\n",
    "plt.yticks(tick_marks, class_names)\n",
    "\n",
    "# create heatmap\n",
    "\n",
    "sns.heatmap(pd.DataFrame(cnf_matrix), annot=True, cmap=\"YlGnBu\" ,fmt='g')\n",
    "ax.xaxis.set_label_position(\"top\")\n",
    "plt.tight_layout()\n",
    "plt.title('Confusion matrix', y=1.1)\n",
    "plt.ylabel('Actual label')\n",
    "plt.xlabel('Predicted label')"
   ]
  },
  {
   "cell_type": "code",
   "execution_count": 73,
   "metadata": {},
   "outputs": [
    {
     "name": "stdout",
     "output_type": "stream",
     "text": [
      "Accuracy: 0.7736625514403292\n",
      "Precision: 0.7619047619047619\n",
      "Recall: 0.8484848484848485\n"
     ]
    }
   ],
   "source": [
    "print(\"Accuracy:\",metrics.accuracy_score(Y_test, Y_pred))\n",
    "\n",
    "print(\"Precision:\",metrics.precision_score(Y_test, Y_pred, average='binary', pos_label=\"W\"))\n",
    "\n",
    "print(\"Recall:\",metrics.recall_score(Y_test, Y_pred, average='binary', pos_label=\"W\"))"
   ]
  },
  {
   "cell_type": "code",
   "execution_count": 74,
   "metadata": {},
   "outputs": [
    {
     "name": "stdout",
     "output_type": "stream",
     "text": [
      "Optimal number of features: 6\n",
      "Selected features: ['Attempt', 'Completion', 'Yards per attempt', 'Touchdowns', 'Interceptions', 'Sack']\n"
     ]
    },
    {
     "data": {
      "image/png": "[encoded data removed]",
      "text/plain": [
       "<Figure size 720x432 with 1 Axes>"
      ]
     },
     "metadata": {},
     "output_type": "display_data"
    }
   ],
   "source": [
    "# Feature selection\n",
    "\n",
    "from sklearn.feature_selection import RFECV\n",
    "# Create the RFE object and compute a cross-validated score.\n",
    "# The \"accuracy\" scoring is proportional to the number of correct classifications\n",
    "\n",
    "rfecv = RFECV(estimator=LogisticRegression(), step=1, cv=10, scoring='accuracy')\n",
    "rfecv.fit(X, Y)\n",
    "\n",
    "print(\"Optimal number of features: %d\" % rfecv.n_features_)\n",
    "print('Selected features: %s' % list(X.columns[rfecv.support_]))\n",
    "\n",
    "# Plot number of features VS. cross-validation scores\n",
    "plt.figure(figsize=(10,6))\n",
    "plt.xlabel(\"Number of features selected\")\n",
    "plt.ylabel(\"Cross validation score (nb of correct classifications)\")\n",
    "plt.plot(range(1, len(rfecv.grid_scores_) + 1), rfecv.grid_scores_)\n",
    "plt.show()"
   ]
  },
  {
   "cell_type": "code",
   "execution_count": 28,
   "metadata": {},
   "outputs": [
    {
     "data": {
      "image/png": "[encoded data removed]",
      "text/plain": [
       "<Figure size 432x288 with 2 Axes>"
      ]
     },
     "metadata": {},
     "output_type": "display_data"
    }
   ],
   "source": [
    "import seaborn as sns\n",
    "\n",
    "sns.heatmap(X.corr())\n",
    "plt.show()"
   ]
  },
  {
   "cell_type": "code",
   "execution_count": 75,
   "metadata": {},
   "outputs": [
    {
     "name": "stdout",
     "output_type": "stream",
     "text": [
      "Gini Accuracy is 69.1358024691358\n"
     ]
    }
   ],
   "source": [
    "# Decision tree model with Gini index as criterion\n",
    "\n",
    "import numpy as np\n",
    "import pandas as pd\n",
    "from sklearn.cross_validation import train_test_split\n",
    "from sklearn.tree import DecisionTreeClassifier\n",
    "from sklearn.metrics import accuracy_score\n",
    "from sklearn import tree\n",
    "\n",
    "clf_gini = DecisionTreeClassifier(criterion = \"gini\", random_state = 100,\n",
    "                               max_depth=3, min_samples_leaf=5)\n",
    "clf_gini.fit(X_train, Y_train)\n",
    "\n",
    "y_pred = clf_gini.predict(X_test)\n",
    "y_pred\n",
    "\n",
    "print(\"Gini Accuracy is\", accuracy_score(Y_test,y_pred)*100)\n",
    "\n"
   ]
  },
  {
   "cell_type": "code",
   "execution_count": 76,
   "metadata": {},
   "outputs": [
    {
     "name": "stdout",
     "output_type": "stream",
     "text": [
      "Information gain Accuracy is 69.95884773662551\n"
     ]
    }
   ],
   "source": [
    "# Decision tree with information gain as criterion\n",
    "\n",
    "clf_entropy = DecisionTreeClassifier(criterion = \"entropy\", random_state = 100, max_depth=3, min_samples_leaf=5)\n",
    "clf_entropy.fit(X_train, Y_train)\n",
    "\n",
    "y_pred_en = clf_entropy.predict(X_test)\n",
    "\n",
    "print(\"Information gain Accuracy is\", accuracy_score(Y_test,y_pred_en)*100)\n",
    "\n"
   ]
  },
  {
   "cell_type": "code",
   "execution_count": 83,
   "metadata": {},
   "outputs": [
    {
     "data": {
      "text/plain": [
       "0.6296296296296297"
      ]
     },
     "execution_count": 83,
     "metadata": {},
     "output_type": "execute_result"
    }
   ],
   "source": [
    "# KNN\n",
    "\n",
    "from sklearn.neighbors import KNeighborsClassifier\n",
    "knn=KNeighborsClassifier(n_neighbors=8)\n",
    "knn.fit(X_train[['Attempt','Completion','Yards','Yards per attempt','Touchdowns','Interceptions','Sack','Loss']], Y_train)\n",
    "\n",
    "accuracy_score(Y_test,knn.predict(X_test[['Attempt','Completion','Yards','Yards per attempt','Touchdowns','Interceptions','Sack','Loss']]))\n",
    "\n",
    "\n",
    "\n",
    "\n"
   ]
  },
  {
   "cell_type": "code",
   "execution_count": 78,
   "metadata": {},
   "outputs": [
    {
     "data": {
      "text/plain": [
       "0.7860082304526749"
      ]
     },
     "execution_count": 78,
     "metadata": {},
     "output_type": "execute_result"
    }
   ],
   "source": [
    "# Here is the guessing model supposed to be...\n",
    "\n",
    "# Scaler\n",
    "\n",
    "from sklearn.preprocessing import MinMaxScaler\n",
    "min_max=MinMaxScaler()\n",
    "\n",
    "X_train_minmax=min_max.fit_transform(X_train[['Attempt','Completion','Yards','Yards per attempt','Touchdowns','Interceptions','Sack','Loss']])\n",
    "\n",
    "X_test_minmax=min_max.fit_transform(X_test[['Attempt','Completion','Yards','Yards per attempt','Touchdowns','Interceptions','Sack','Loss']])\n",
    "\n",
    "# Applying the scaled data in our KNN=8 model\n",
    "\n",
    "knn=KNeighborsClassifier(n_neighbors=8)\n",
    "knn.fit(X_train_minmax,Y_train)\n",
    "\n",
    "accuracy_score(Y_test,knn.predict(X_test_minmax))\n",
    "\n",
    "# We get a slightly better prediction by scaling. So, there must be some numbers with a broad range that worsens our model."
   ]
  },
  {
   "cell_type": "code",
   "execution_count": 79,
   "metadata": {},
   "outputs": [
    {
     "name": "stdout",
     "output_type": "stream",
     "text": [
      "             precision    recall  f1-score   support\n",
      "\n",
      "          L       0.79      0.68      0.73       111\n",
      "          W       0.76      0.85      0.80       132\n",
      "\n",
      "avg / total       0.78      0.77      0.77       243\n",
      "\n"
     ]
    }
   ],
   "source": [
    "from sklearn.metrics import classification_report, confusion_matrix  \n",
    "  \n",
    "print(classification_report(Y_test, Y_pred))"
   ]
  },
  {
   "cell_type": "code",
   "execution_count": 81,
   "metadata": {},
   "outputs": [
    {
     "data": {
      "text/plain": [
       "Text(0,0.5,'Mean Error')"
      ]
     },
     "execution_count": 81,
     "metadata": {},
     "output_type": "execute_result"
    },
    {
     "data": {
      "image/png": "[encoded data removed]",
      "text/plain": [
       "<Figure size 864x432 with 1 Axes>"
      ]
     },
     "metadata": {},
     "output_type": "display_data"
    }
   ],
   "source": [
    "# Calculating error for K values between 1 and 40\n",
    "error = []\n",
    "\n",
    "for i in range(1, 40):  \n",
    "    knn = KNeighborsClassifier(n_neighbors=i)\n",
    "    knn.fit(X_train_minmax, Y_train)\n",
    "    pred_i = knn.predict(X_test_minmax)\n",
    "    error.append(np.mean(pred_i != Y_test))\n",
    "    \n",
    "plt.figure(figsize=(12, 6))  \n",
    "plt.plot(range(1, 40), error, color='red', linestyle='dashed', marker='o',  \n",
    "         markerfacecolor='blue', markersize=10)\n",
    "plt.title('Error Rate K Value')  \n",
    "plt.xlabel('K Value')  \n",
    "plt.ylabel('Mean Error')"
   ]
  },
  {
   "cell_type": "code",
   "execution_count": 85,
   "metadata": {},
   "outputs": [
    {
     "ename": "IndentationError",
     "evalue": "expected an indented block (<ipython-input-85-808294bc08de>, line 18)",
     "output_type": "error",
     "traceback": [
      "\u001b[1;36m  File \u001b[1;32m\"<ipython-input-85-808294bc08de>\"\u001b[1;36m, line \u001b[1;32m18\u001b[0m\n\u001b[1;33m    probas = pipe_lr.fit(X_train2[train],\u001b[0m\n\u001b[1;37m         ^\u001b[0m\n\u001b[1;31mIndentationError\u001b[0m\u001b[1;31m:\u001b[0m expected an indented block\n"
     ]
    }
   ],
   "source": [
    "from sklearn.metrics import roc_curve, auc\n",
    ">>> from scipy import interp\n",
    ">>> pipe_lr = make_pipeline(StandardScaler(),\n",
    "... PCA(n_components=2),\n",
    "... LogisticRegression(penalty='l2',\n",
    "... random_state=1,\n",
    "... C=100.0))\n",
    ">>> X_train2 = X_train\n",
    ">>> cv = list(StratifiedKFold(n_splits=3,\n",
    "... random_state=1).split(X_train,\n",
    "... y_train))\n",
    ">>> fig = plt.figure(figsize=(7, 5))\n",
    ">>> mean_tpr = 0.0\n",
    "\n",
    "mean_fpr = np.linspace(0, 1, 100)\n",
    ">>> all_tpr = []\n",
    ">>> for i, (train, test) in enumerate(cv):\n",
    "... probas = pipe_lr.fit(X_train2[train],\n",
    "... y_train[train]).predict_proba(X_train2[test])\n",
    "... fpr, tpr, thresholds = roc_curve(Y_train[test],\n",
    "... probas[:, 1],\n",
    "... pos_label=1)\n",
    ">>> mean_tpr += interp(mean_fpr, fpr, tpr)\n",
    ">>> mean_tpr[0] = 0.0\n",
    ">>> roc_auc = auc(fpr, tpr)\n",
    ">>> plt.plot(fpr,\n",
    "... tpr,\n",
    "... label='ROC fold %d (area = %0.2f)'\n",
    "... % (i+1, roc_auc))\n",
    ">>> plt.plot([0, 1],\n",
    "... [0, 1],\n",
    "... linestyle='--',\n",
    "... color=(0.6, 0.6, 0.6),\n",
    "... label='random guessing')\n",
    ">>> mean_tpr /= len(cv)\n",
    ">>> mean_tpr[-1] = 1.0\n",
    ">>> mean_auc = auc(mean_fpr, mean_tpr)\n",
    ">>> plt.plot(mean_fpr, mean_tpr, 'k--',\n",
    "... label='mean ROC (area = %0.2f)' % mean_auc, lw=2)\n",
    ">>> plt.plot([0, 0, 1],\n",
    "... [0, 1, 1],\n",
    "... linestyle=':',\n",
    "... color='black',\n",
    "... label='perfect performance')\n",
    ">>> plt.xlim([-0.05, 1.05])\n",
    ">>> plt.ylim([-0.05, 1.05])\n",
    ">>> plt.xlabel('false positive rate')\n",
    ">>> plt.ylabel('true positive rate')\n",
    ">>> plt.legend(loc=\"lower right\")\n",
    ">>> plt.show()\n",
    "\n"
   ]
  },
  {
   "cell_type": "code",
   "execution_count": null,
   "metadata": {},
   "outputs": [],
   "source": []
  },
  {
   "cell_type": "code",
   "execution_count": null,
   "metadata": {},
   "outputs": [],
   "source": []
  },
  {
   "cell_type": "code",
   "execution_count": null,
   "metadata": {},
   "outputs": [],
   "source": []
  },
  {
   "cell_type": "code",
   "execution_count": null,
   "metadata": {},
   "outputs": [],
   "source": []
  },
  {
   "cell_type": "code",
   "execution_count": null,
   "metadata": {},
   "outputs": [],
   "source": []
  }
 ],
 "metadata": {
  "kernelspec": {
   "display_name": "Python 3",
   "language": "python",
   "name": "python3"
  },
  "language_info": {
   "codemirror_mode": {
    "name": "ipython",
    "version": 3
   },
   "file_extension": ".py",
   "mimetype": "text/x-python",
   "name": "python",
   "nbconvert_exporter": "python",
   "pygments_lexer": "ipython3",
   "version": "3.6.5"
  }
 },
 "nbformat": 4,
 "nbformat_minor": 2
}
