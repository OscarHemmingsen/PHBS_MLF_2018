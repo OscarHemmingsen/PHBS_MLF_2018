{
 "cells": [
  {
   "cell_type": "code",
   "execution_count": 5,
   "metadata": {},
   "outputs": [
    {
     "data": {
      "text/html": [
       "<div>\n",
       "<style scoped>\n",
       "    .dataframe tbody tr th:only-of-type {\n",
       "        vertical-align: middle;\n",
       "    }\n",
       "\n",
       "    .dataframe tbody tr th {\n",
       "        vertical-align: top;\n",
       "    }\n",
       "\n",
       "    .dataframe thead th {\n",
       "        text-align: right;\n",
       "    }\n",
       "</style>\n",
       "<table border=\"1\" class=\"dataframe\">\n",
       "  <thead>\n",
       "    <tr style=\"text-align: right;\">\n",
       "      <th></th>\n",
       "      <th>Quarterback</th>\n",
       "      <th>Attempt</th>\n",
       "      <th>Completion</th>\n",
       "      <th>Yards</th>\n",
       "      <th>Yards per attempt</th>\n",
       "      <th>Touchdowns</th>\n",
       "      <th>Interceptions</th>\n",
       "      <th>Longest</th>\n",
       "      <th>Sack</th>\n",
       "      <th>Loss</th>\n",
       "      <th>QB Rating</th>\n",
       "      <th>Points</th>\n",
       "      <th>Home/Away</th>\n",
       "      <th>Year</th>\n",
       "      <th>Outcome</th>\n",
       "    </tr>\n",
       "  </thead>\n",
       "  <tbody>\n",
       "    <tr>\n",
       "      <th>0</th>\n",
       "      <td>Drew Brees</td>\n",
       "      <td>19</td>\n",
       "      <td>15</td>\n",
       "      <td>160</td>\n",
       "      <td>8.4</td>\n",
       "      <td>2</td>\n",
       "      <td>0</td>\n",
       "      <td>30</td>\n",
       "      <td>1</td>\n",
       "      <td>0</td>\n",
       "      <td>136.8</td>\n",
       "      <td>34</td>\n",
       "      <td>away</td>\n",
       "      <td>2002</td>\n",
       "      <td>W</td>\n",
       "    </tr>\n",
       "    <tr>\n",
       "      <th>1</th>\n",
       "      <td>Drew Bledsoe</td>\n",
       "      <td>39</td>\n",
       "      <td>26</td>\n",
       "      <td>271</td>\n",
       "      <td>6.9</td>\n",
       "      <td>1</td>\n",
       "      <td>2</td>\n",
       "      <td>52</td>\n",
       "      <td>4</td>\n",
       "      <td>29</td>\n",
       "      <td>73.8</td>\n",
       "      <td>31</td>\n",
       "      <td>home</td>\n",
       "      <td>2002</td>\n",
       "      <td>L</td>\n",
       "    </tr>\n",
       "    <tr>\n",
       "      <th>2</th>\n",
       "      <td>Peyton Manning</td>\n",
       "      <td>31</td>\n",
       "      <td>19</td>\n",
       "      <td>211</td>\n",
       "      <td>6.8</td>\n",
       "      <td>3</td>\n",
       "      <td>0</td>\n",
       "      <td>28</td>\n",
       "      <td>1</td>\n",
       "      <td>8</td>\n",
       "      <td>113.8</td>\n",
       "      <td>28</td>\n",
       "      <td>away</td>\n",
       "      <td>2002</td>\n",
       "      <td>W</td>\n",
       "    </tr>\n",
       "    <tr>\n",
       "      <th>3</th>\n",
       "      <td>Quincy Carter</td>\n",
       "      <td>30</td>\n",
       "      <td>13</td>\n",
       "      <td>131</td>\n",
       "      <td>4.4</td>\n",
       "      <td>0</td>\n",
       "      <td>1</td>\n",
       "      <td>31</td>\n",
       "      <td>3</td>\n",
       "      <td>19</td>\n",
       "      <td>42.5</td>\n",
       "      <td>10</td>\n",
       "      <td>away</td>\n",
       "      <td>2002</td>\n",
       "      <td>L</td>\n",
       "    </tr>\n",
       "    <tr>\n",
       "      <th>4</th>\n",
       "      <td>Tom Brady</td>\n",
       "      <td>43</td>\n",
       "      <td>29</td>\n",
       "      <td>294</td>\n",
       "      <td>6.8</td>\n",
       "      <td>3</td>\n",
       "      <td>0</td>\n",
       "      <td>40t</td>\n",
       "      <td>2</td>\n",
       "      <td>14</td>\n",
       "      <td>110.0</td>\n",
       "      <td>30</td>\n",
       "      <td>home</td>\n",
       "      <td>2002</td>\n",
       "      <td>W</td>\n",
       "    </tr>\n",
       "  </tbody>\n",
       "</table>\n",
       "</div>"
      ],
      "text/plain": [
       "      Quarterback  Attempt  Completion  Yards  Yards per attempt  Touchdowns  \\\n",
       "0      Drew Brees       19          15    160                8.4           2   \n",
       "1    Drew Bledsoe       39          26    271                6.9           1   \n",
       "2  Peyton Manning       31          19    211                6.8           3   \n",
       "3   Quincy Carter       30          13    131                4.4           0   \n",
       "4       Tom Brady       43          29    294                6.8           3   \n",
       "\n",
       "   Interceptions Longest  Sack  Loss  QB Rating  Points Home/Away  Year  \\\n",
       "0              0      30     1     0      136.8      34      away  2002   \n",
       "1              2      52     4    29       73.8      31      home  2002   \n",
       "2              0      28     1     8      113.8      28      away  2002   \n",
       "3              1      31     3    19       42.5      10      away  2002   \n",
       "4              0     40t     2    14      110.0      30      home  2002   \n",
       "\n",
       "  Outcome  \n",
       "0       W  \n",
       "1       L  \n",
       "2       W  \n",
       "3       L  \n",
       "4       W  "
      ]
     },
     "execution_count": 5,
     "metadata": {},
     "output_type": "execute_result"
    }
   ],
   "source": [
    "import pandas as pd\n",
    "\n",
    "QB = pd.read_excel('QBStats_all_new.xlsx')\n",
    "\n",
    "QB.head(5)"
   ]
  },
  {
   "cell_type": "code",
   "execution_count": 11,
   "metadata": {},
   "outputs": [],
   "source": [
    "# split data table into data X and class labels y\n",
    "\n",
    "columns = ['Attempt','Completion','Yards per attempt','Touchdowns','Interceptions','Sack']\n",
    "\n",
    "X = QB[columns]\n",
    "Y = QB['Outcome']"
   ]
  },
  {
   "cell_type": "code",
   "execution_count": 13,
   "metadata": {},
   "outputs": [],
   "source": [
    "from sklearn.preprocessing import StandardScaler\n",
    "X_std = StandardScaler().fit_transform(X)"
   ]
  },
  {
   "cell_type": "code",
   "execution_count": 8,
   "metadata": {},
   "outputs": [],
   "source": [
    "import matplotlib.pyplot as plt"
   ]
  },
  {
   "cell_type": "code",
   "execution_count": 14,
   "metadata": {},
   "outputs": [
    {
     "name": "stdout",
     "output_type": "stream",
     "text": [
      "Covariance matrix \n",
      "[[ 1.0008244   0.86175688 -0.22586028  0.11718672  0.2807476   0.04502574]\n",
      " [ 0.86175688  1.0008244   0.05541153  0.28315186  0.12911271 -0.03575086]\n",
      " [-0.22586028  0.05541153  1.0008244   0.47971089 -0.23508579 -0.13814368]\n",
      " [ 0.11718672  0.28315186  0.47971089  1.0008244  -0.12537666 -0.21943967]\n",
      " [ 0.2807476   0.12911271 -0.23508579 -0.12537666  1.0008244   0.06048616]\n",
      " [ 0.04502574 -0.03575086 -0.13814368 -0.21943967  0.06048616  1.0008244 ]]\n"
     ]
    }
   ],
   "source": [
    "import numpy as np\n",
    "\n",
    "mean_vec = np.mean(X_std, axis=0)\n",
    "cov_mat = (X_std - mean_vec).T.dot((X_std - mean_vec)) / (X_std.shape[0]-1)\n",
    "\n",
    "print('Covariance matrix \\n%s' %cov_mat)"
   ]
  },
  {
   "cell_type": "code",
   "execution_count": 15,
   "metadata": {},
   "outputs": [
    {
     "name": "stdout",
     "output_type": "stream",
     "text": [
      "Eigenvectors \n",
      "[[ 7.08992733e-01 -6.74023340e-01 -8.91903168e-02 -4.41063370e-02\n",
      "   1.74011896e-01  5.33049843e-02]\n",
      " [-6.73500757e-01 -6.56643899e-01  1.32667004e-01 -2.29748720e-01\n",
      "   1.73020062e-01  1.22043317e-01]\n",
      " [ 1.94723398e-01  8.56974756e-02  6.13172739e-01 -6.27588736e-01\n",
      "  -3.72187595e-01  2.15329296e-01]\n",
      " [-7.96795926e-04 -1.89561953e-01  6.04638943e-01  7.30156322e-01\n",
      "  -2.50950680e-01  4.87122390e-02]\n",
      " [-7.11060911e-02 -2.66812803e-01 -3.42321985e-01 -4.02540720e-02\n",
      "  -8.13561527e-01 -3.78242993e-01]\n",
      " [-2.74248670e-02  6.66820133e-03 -3.40134022e-01  1.29049953e-01\n",
      "  -2.76408594e-01  8.89076295e-01]]\n",
      "\n",
      "Eigenvalues \n",
      "[0.09014475 2.01272409 1.72657441 0.46045331 0.78764692 0.92740292]\n"
     ]
    }
   ],
   "source": [
    "# eigendecomposition on the covariance matrix\n",
    "\n",
    "cov_mat = np.cov(X_std.T)\n",
    "\n",
    "eig_vals, eig_vecs = np.linalg.eig(cov_mat)\n",
    "\n",
    "print('Eigenvectors \\n%s' %eig_vecs)\n",
    "print('\\nEigenvalues \\n%s' %eig_vals)"
   ]
  },
  {
   "cell_type": "code",
   "execution_count": 16,
   "metadata": {},
   "outputs": [
    {
     "name": "stdout",
     "output_type": "stream",
     "text": [
      "Eigenvectors \n",
      "[[ 7.08992733e-01 -6.74023340e-01 -8.91903168e-02 -4.41063370e-02\n",
      "   1.74011896e-01  5.33049843e-02]\n",
      " [-6.73500757e-01 -6.56643899e-01  1.32667004e-01 -2.29748720e-01\n",
      "   1.73020062e-01  1.22043317e-01]\n",
      " [ 1.94723398e-01  8.56974756e-02  6.13172739e-01 -6.27588736e-01\n",
      "  -3.72187595e-01  2.15329296e-01]\n",
      " [-7.96795926e-04 -1.89561953e-01  6.04638943e-01  7.30156322e-01\n",
      "  -2.50950680e-01  4.87122390e-02]\n",
      " [-7.11060911e-02 -2.66812803e-01 -3.42321985e-01 -4.02540720e-02\n",
      "  -8.13561527e-01 -3.78242993e-01]\n",
      " [-2.74248670e-02  6.66820133e-03 -3.40134022e-01  1.29049953e-01\n",
      "  -2.76408594e-01  8.89076295e-01]]\n",
      "\n",
      "Eigenvalues \n",
      "[0.0900705  2.01106616 1.72515219 0.46007403 0.78699812 0.92663899]\n"
     ]
    }
   ],
   "source": [
    "# correlation matrix\n",
    "\n",
    "cor_mat1 = np.corrcoef(X_std.T)\n",
    "\n",
    "eig_vals, eig_vecs = np.linalg.eig(cor_mat1)\n",
    "\n",
    "print('Eigenvectors \\n%s' %eig_vecs)\n",
    "print('\\nEigenvalues \\n%s' %eig_vals)"
   ]
  },
  {
   "cell_type": "code",
   "execution_count": 17,
   "metadata": {},
   "outputs": [
    {
     "name": "stdout",
     "output_type": "stream",
     "text": [
      "Eigenvectors \n",
      "[[ 7.08992733e-01 -6.74023340e-01 -8.91903168e-02 -4.41063370e-02\n",
      "   1.74011896e-01  5.33049843e-02]\n",
      " [-6.73500757e-01 -6.56643899e-01  1.32667004e-01 -2.29748720e-01\n",
      "   1.73020062e-01  1.22043317e-01]\n",
      " [ 1.94723398e-01  8.56974756e-02  6.13172739e-01 -6.27588736e-01\n",
      "  -3.72187595e-01  2.15329296e-01]\n",
      " [-7.96795926e-04 -1.89561953e-01  6.04638943e-01  7.30156322e-01\n",
      "  -2.50950680e-01  4.87122390e-02]\n",
      " [-7.11060911e-02 -2.66812803e-01 -3.42321985e-01 -4.02540720e-02\n",
      "  -8.13561527e-01 -3.78242993e-01]\n",
      " [-2.74248670e-02  6.66820133e-03 -3.40134022e-01  1.29049953e-01\n",
      "  -2.76408594e-01  8.89076295e-01]]\n",
      "\n",
      "Eigenvalues \n",
      "[0.0900705  2.01106616 1.72515219 0.46007403 0.78699812 0.92663899]\n"
     ]
    }
   ],
   "source": [
    "# Eigendecomposition of the raw data based on the correlation matrix\n",
    "\n",
    "cor_mat2 = np.corrcoef(X.T)\n",
    "\n",
    "eig_vals, eig_vecs = np.linalg.eig(cor_mat2)\n",
    "\n",
    "print('Eigenvectors \\n%s' %eig_vecs)\n",
    "print('\\nEigenvalues \\n%s' %eig_vals)"
   ]
  },
  {
   "cell_type": "code",
   "execution_count": 18,
   "metadata": {},
   "outputs": [
    {
     "name": "stdout",
     "output_type": "stream",
     "text": [
      "Eigenvalues in descending order:\n",
      "2.0110661639356975\n",
      "1.7251521902794538\n",
      "0.9266389949619002\n",
      "0.7869981219238211\n",
      "0.46007402880727166\n",
      "0.09007050009185469\n"
     ]
    }
   ],
   "source": [
    "# Make a list of (eigenvalue, eigenvector) tuples\n",
    "eig_pairs = [(np.abs(eig_vals[i]), eig_vecs[:,i]) for i in range(len(eig_vals))]\n",
    "\n",
    "# Sort the (eigenvalue, eigenvector) tuples from high to low\n",
    "eig_pairs.sort()\n",
    "eig_pairs.reverse()\n",
    "\n",
    "# Visually confirm that the list is correctly sorted by decreasing eigenvalues\n",
    "print('Eigenvalues in descending order:')\n",
    "for i in eig_pairs:\n",
    "    print(i[0])"
   ]
  },
  {
   "cell_type": "code",
   "execution_count": 24,
   "metadata": {},
   "outputs": [
    {
     "name": "stdout",
     "output_type": "stream",
     "text": [
      "Explained variances are [33.5177693989283, 28.752536504657566, 15.443983249365004, 13.11663536539702, 7.667900480121196, 1.5011750015309118]\n",
      "Cumulative ratio of explained variance is [ 33.5177694   62.2703059   77.71428915  90.83092452  98.498825\n",
      " 100.        ]\n"
     ]
    }
   ],
   "source": [
    "tot = sum(eig_vals)\n",
    "var_exp = [(i / tot)*100 for i in sorted(eig_vals, reverse=True)]\n",
    "cum_var_exp = np.cumsum(var_exp)\n",
    "\n",
    "print(\"Explained variances are\", var_exp)\n",
    "\n",
    "print(\"Cumulative ratio of explained variance is\", cum_var_exp)"
   ]
  },
  {
   "cell_type": "code",
   "execution_count": 20,
   "metadata": {},
   "outputs": [
    {
     "data": {
      "image/png": "[encoded data removed]",
      "text/plain": [
       "<Figure size 432x288 with 1 Axes>"
      ]
     },
     "metadata": {},
     "output_type": "display_data"
    }
   ],
   "source": [
    "#Explained variance\n",
    "from sklearn.decomposition import PCA\n",
    "pca = PCA().fit(X_std)\n",
    "plt.plot(np.cumsum(pca.explained_variance_ratio_))\n",
    "plt.xlabel('number of components')\n",
    "plt.ylabel('cumulative explained variance')\n",
    "plt.show()"
   ]
  },
  {
   "cell_type": "code",
   "execution_count": null,
   "metadata": {},
   "outputs": [],
   "source": []
  }
 ],
 "metadata": {
  "kernelspec": {
   "display_name": "Python 3",
   "language": "python",
   "name": "python3"
  },
  "language_info": {
   "codemirror_mode": {
    "name": "ipython",
    "version": 3
   },
   "file_extension": ".py",
   "mimetype": "text/x-python",
   "name": "python",
   "nbconvert_exporter": "python",
   "pygments_lexer": "ipython3",
   "version": "3.6.5"
  }
 },
 "nbformat": 4,
 "nbformat_minor": 2
}
