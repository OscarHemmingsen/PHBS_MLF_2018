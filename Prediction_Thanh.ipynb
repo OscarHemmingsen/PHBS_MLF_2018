{
 "cells": [
  {
   "cell_type": "code",
   "execution_count": 317,
   "metadata": {},
   "outputs": [
    {
     "data": {
      "text/html": [
       "<div>\n",
       "<style scoped>\n",
       "    .dataframe tbody tr th:only-of-type {\n",
       "        vertical-align: middle;\n",
       "    }\n",
       "\n",
       "    .dataframe tbody tr th {\n",
       "        vertical-align: top;\n",
       "    }\n",
       "\n",
       "    .dataframe thead th {\n",
       "        text-align: right;\n",
       "    }\n",
       "</style>\n",
       "<table border=\"1\" class=\"dataframe\">\n",
       "  <thead>\n",
       "    <tr style=\"text-align: right;\">\n",
       "      <th></th>\n",
       "      <th>Attempt</th>\n",
       "      <th>Completion</th>\n",
       "      <th>Yards</th>\n",
       "      <th>Yards per attempt</th>\n",
       "      <th>Touchdowns</th>\n",
       "      <th>Interceptions</th>\n",
       "      <th>Longest</th>\n",
       "      <th>Sack</th>\n",
       "      <th>Loss</th>\n",
       "      <th>QB Rating</th>\n",
       "      <th>Points</th>\n",
       "      <th>Year</th>\n",
       "      <th>Outcome</th>\n",
       "    </tr>\n",
       "    <tr>\n",
       "      <th>Quarterback</th>\n",
       "      <th></th>\n",
       "      <th></th>\n",
       "      <th></th>\n",
       "      <th></th>\n",
       "      <th></th>\n",
       "      <th></th>\n",
       "      <th></th>\n",
       "      <th></th>\n",
       "      <th></th>\n",
       "      <th></th>\n",
       "      <th></th>\n",
       "      <th></th>\n",
       "      <th></th>\n",
       "    </tr>\n",
       "  </thead>\n",
       "  <tbody>\n",
       "    <tr>\n",
       "      <th>Drew Brees</th>\n",
       "      <td>19</td>\n",
       "      <td>15</td>\n",
       "      <td>160</td>\n",
       "      <td>8.4</td>\n",
       "      <td>2</td>\n",
       "      <td>0</td>\n",
       "      <td>30</td>\n",
       "      <td>1</td>\n",
       "      <td>0</td>\n",
       "      <td>136.8</td>\n",
       "      <td>34</td>\n",
       "      <td>2002</td>\n",
       "      <td>W</td>\n",
       "    </tr>\n",
       "    <tr>\n",
       "      <th>Drew Bledsoe</th>\n",
       "      <td>39</td>\n",
       "      <td>26</td>\n",
       "      <td>271</td>\n",
       "      <td>6.9</td>\n",
       "      <td>1</td>\n",
       "      <td>2</td>\n",
       "      <td>52</td>\n",
       "      <td>4</td>\n",
       "      <td>29</td>\n",
       "      <td>73.8</td>\n",
       "      <td>31</td>\n",
       "      <td>2002</td>\n",
       "      <td>L</td>\n",
       "    </tr>\n",
       "    <tr>\n",
       "      <th>Peyton Manning</th>\n",
       "      <td>31</td>\n",
       "      <td>19</td>\n",
       "      <td>211</td>\n",
       "      <td>6.8</td>\n",
       "      <td>3</td>\n",
       "      <td>0</td>\n",
       "      <td>28</td>\n",
       "      <td>1</td>\n",
       "      <td>8</td>\n",
       "      <td>113.8</td>\n",
       "      <td>28</td>\n",
       "      <td>2002</td>\n",
       "      <td>W</td>\n",
       "    </tr>\n",
       "    <tr>\n",
       "      <th>Quincy Carter</th>\n",
       "      <td>30</td>\n",
       "      <td>13</td>\n",
       "      <td>131</td>\n",
       "      <td>4.4</td>\n",
       "      <td>0</td>\n",
       "      <td>1</td>\n",
       "      <td>31</td>\n",
       "      <td>3</td>\n",
       "      <td>19</td>\n",
       "      <td>42.5</td>\n",
       "      <td>10</td>\n",
       "      <td>2002</td>\n",
       "      <td>L</td>\n",
       "    </tr>\n",
       "    <tr>\n",
       "      <th>Tom Brady</th>\n",
       "      <td>43</td>\n",
       "      <td>29</td>\n",
       "      <td>294</td>\n",
       "      <td>6.8</td>\n",
       "      <td>3</td>\n",
       "      <td>0</td>\n",
       "      <td>40</td>\n",
       "      <td>2</td>\n",
       "      <td>14</td>\n",
       "      <td>110.0</td>\n",
       "      <td>30</td>\n",
       "      <td>2002</td>\n",
       "      <td>W</td>\n",
       "    </tr>\n",
       "    <tr>\n",
       "      <th>Peyton Manning</th>\n",
       "      <td>45</td>\n",
       "      <td>26</td>\n",
       "      <td>289</td>\n",
       "      <td>6.4</td>\n",
       "      <td>1</td>\n",
       "      <td>3</td>\n",
       "      <td>33</td>\n",
       "      <td>0</td>\n",
       "      <td>0</td>\n",
       "      <td>56.6</td>\n",
       "      <td>13</td>\n",
       "      <td>2002</td>\n",
       "      <td>L</td>\n",
       "    </tr>\n",
       "    <tr>\n",
       "      <th>Quincy Carter</th>\n",
       "      <td>24</td>\n",
       "      <td>14</td>\n",
       "      <td>240</td>\n",
       "      <td>10.0</td>\n",
       "      <td>2</td>\n",
       "      <td>0</td>\n",
       "      <td>44</td>\n",
       "      <td>1</td>\n",
       "      <td>10</td>\n",
       "      <td>120.1</td>\n",
       "      <td>21</td>\n",
       "      <td>2002</td>\n",
       "      <td>W</td>\n",
       "    </tr>\n",
       "    <tr>\n",
       "      <th>Tom Brady</th>\n",
       "      <td>35</td>\n",
       "      <td>25</td>\n",
       "      <td>269</td>\n",
       "      <td>7.7</td>\n",
       "      <td>2</td>\n",
       "      <td>1</td>\n",
       "      <td>49</td>\n",
       "      <td>0</td>\n",
       "      <td>0</td>\n",
       "      <td>100.8</td>\n",
       "      <td>44</td>\n",
       "      <td>2002</td>\n",
       "      <td>W</td>\n",
       "    </tr>\n",
       "    <tr>\n",
       "      <th>Drew Brees</th>\n",
       "      <td>28</td>\n",
       "      <td>15</td>\n",
       "      <td>163</td>\n",
       "      <td>5.8</td>\n",
       "      <td>1</td>\n",
       "      <td>1</td>\n",
       "      <td>35</td>\n",
       "      <td>2</td>\n",
       "      <td>20</td>\n",
       "      <td>68.0</td>\n",
       "      <td>24</td>\n",
       "      <td>2002</td>\n",
       "      <td>W</td>\n",
       "    </tr>\n",
       "    <tr>\n",
       "      <th>Drew Bledsoe</th>\n",
       "      <td>49</td>\n",
       "      <td>35</td>\n",
       "      <td>463</td>\n",
       "      <td>9.4</td>\n",
       "      <td>3</td>\n",
       "      <td>0</td>\n",
       "      <td>48</td>\n",
       "      <td>3</td>\n",
       "      <td>26</td>\n",
       "      <td>121.4</td>\n",
       "      <td>45</td>\n",
       "      <td>2002</td>\n",
       "      <td>W</td>\n",
       "    </tr>\n",
       "  </tbody>\n",
       "</table>\n",
       "</div>"
      ],
      "text/plain": [
       "                Attempt  Completion  Yards  Yards per attempt  Touchdowns  \\\n",
       "Quarterback                                                                 \n",
       "Drew Brees           19          15    160                8.4           2   \n",
       "Drew Bledsoe         39          26    271                6.9           1   \n",
       "Peyton Manning       31          19    211                6.8           3   \n",
       "Quincy Carter        30          13    131                4.4           0   \n",
       "Tom Brady            43          29    294                6.8           3   \n",
       "Peyton Manning       45          26    289                6.4           1   \n",
       "Quincy Carter        24          14    240               10.0           2   \n",
       "Tom Brady            35          25    269                7.7           2   \n",
       "Drew Brees           28          15    163                5.8           1   \n",
       "Drew Bledsoe         49          35    463                9.4           3   \n",
       "\n",
       "                Interceptions  Longest  Sack  Loss  QB Rating  Points  Year  \\\n",
       "Quarterback                                                                   \n",
       "Drew Brees                  0       30     1     0      136.8      34  2002   \n",
       "Drew Bledsoe                2       52     4    29       73.8      31  2002   \n",
       "Peyton Manning              0       28     1     8      113.8      28  2002   \n",
       "Quincy Carter               1       31     3    19       42.5      10  2002   \n",
       "Tom Brady                   0       40     2    14      110.0      30  2002   \n",
       "Peyton Manning              3       33     0     0       56.6      13  2002   \n",
       "Quincy Carter               0       44     1    10      120.1      21  2002   \n",
       "Tom Brady                   1       49     0     0      100.8      44  2002   \n",
       "Drew Brees                  1       35     2    20       68.0      24  2002   \n",
       "Drew Bledsoe                0       48     3    26      121.4      45  2002   \n",
       "\n",
       "               Outcome  \n",
       "Quarterback             \n",
       "Drew Brees           W  \n",
       "Drew Bledsoe         L  \n",
       "Peyton Manning       W  \n",
       "Quincy Carter        L  \n",
       "Tom Brady            W  \n",
       "Peyton Manning       L  \n",
       "Quincy Carter        W  \n",
       "Tom Brady            W  \n",
       "Drew Brees           W  \n",
       "Drew Bledsoe         W  "
      ]
     },
     "execution_count": 317,
     "metadata": {},
     "output_type": "execute_result"
    },
    {
     "data": {
      "text/plain": [
       "<Figure size 432x288 with 0 Axes>"
      ]
     },
     "metadata": {},
     "output_type": "display_data"
    }
   ],
   "source": [
    "import pandas as pd \n",
    "import matplotlib.pyplot as plt\n",
    "%matplotlib inline\n",
    "dataset = pd.read_excel('QBStats_edited.xlsx',index_col=0)\n",
    "\n",
    "plt.savefig('data')\n",
    "dataset.head(10)"
   ]
  },
  {
   "cell_type": "code",
   "execution_count": null,
   "metadata": {},
   "outputs": [
    {
     "name": "stderr",
     "output_type": "stream",
     "text": [
      "/Users/Vuongiie/anaconda3/lib/python3.6/site-packages/ipykernel_launcher.py:10: FutureWarning: 'pandas.tools.plotting.table' is deprecated, import 'pandas.plotting.table' instead.\n",
      "  # Remove the CWD from sys.path while we load stuff.\n"
     ]
    }
   ],
   "source": [
    "dataset['Outcome_result'] = dataset.Outcome.map({'W':1, 'L':0})\n",
    "dataset.head()\n",
    "import matplotlib.pyplot as plt\n",
    "import pandas as pd\n",
    "from pandas.tools.plotting import table\n",
    "\n",
    "ax = plt.subplot(111, frame_on=True) # no visible frame\n",
    "\n",
    "\n",
    "table(ax, dataset)  # where df is your data frame\n",
    "\n",
    "plt.savefig('mytable.png')"
   ]
  },
  {
   "cell_type": "code",
   "execution_count": null,
   "metadata": {},
   "outputs": [],
   "source": []
  },
  {
   "cell_type": "code",
   "execution_count": null,
   "metadata": {},
   "outputs": [],
   "source": []
  },
  {
   "cell_type": "code",
   "execution_count": 263,
   "metadata": {},
   "outputs": [
    {
     "name": "stdout",
     "output_type": "stream",
     "text": [
      "(1214, 14)\n",
      "['Attempt', 'Completion', 'Yards', 'Yards per attempt', 'Touchdowns', 'Interceptions', 'Longest', 'Sack', 'Loss', 'QB Rating', 'Points', 'Year', 'Outcome', 'Outcome_result']\n"
     ]
    }
   ],
   "source": [
    "from sklearn import preprocessing \n",
    "import matplotlib.pyplot as plt\n",
    "%matplotlib inline\n",
    "plt.rc(\"font\",size=14)\n",
    "from sklearn.linear_model import LogisticRegression\n",
    "from sklearn.cross_validation import train_test_split\n",
    "import seaborn as sns \n",
    "sns.set(style=\"white\")\n",
    "sns.set(style=\"whitegrid\",color_codes=True)\n",
    "\n",
    "\n",
    "\n",
    "print(dataset.shape)\n",
    "print(list(dataset.columns))"
   ]
  },
  {
   "cell_type": "code",
   "execution_count": 286,
   "metadata": {},
   "outputs": [
    {
     "data": {
      "text/plain": [
       "(1214,)"
      ]
     },
     "execution_count": 286,
     "metadata": {},
     "output_type": "execute_result"
    }
   ],
   "source": [
    "dataset1 = dataset[\"Outcome_result\"]\n",
    "dataset1.shape"
   ]
  },
  {
   "cell_type": "code",
   "execution_count": 291,
   "metadata": {},
   "outputs": [
    {
     "data": {
      "text/plain": [
       "0.7942386831275721"
      ]
     },
     "execution_count": 291,
     "metadata": {},
     "output_type": "execute_result"
    }
   ],
   "source": [
    "#logistic regression\n",
    "\n",
    "\n",
    "from sklearn.linear_model import LogisticRegression \n",
    "from sklearn.model_selection import train_test_split \n",
    "from sklearn import metrics \n",
    "\n",
    "cols = [\"Attempt\",\"Completion\",\"Yards\",\"Yards per attempt\",\"Touchdowns\",\"Interceptions\",\"Sack\",\"Loss\",]\n",
    "dataset_final = dataset[cols]\n",
    "\n",
    "X = dataset_final\n",
    "Y = dataset[\"Outcome_result\"]\n",
    "\n",
    "X_train, X_test, Y_train, Y_test = train_test_split(X, Y, test_size=0.20, random_state=42)\n",
    "\n",
    "log=LogisticRegression(penalty='l2',C=2)\n",
    "log.fit(X_train,Y_train)\n",
    "\n",
    "from sklearn.metrics import accuracy_score\n",
    "accuracy_score(Y_test,log.predict(X_test))"
   ]
  },
  {
   "cell_type": "code",
   "execution_count": null,
   "metadata": {},
   "outputs": [],
   "source": []
  },
  {
   "cell_type": "code",
   "execution_count": 292,
   "metadata": {},
   "outputs": [
    {
     "data": {
      "text/plain": [
       "0.7242798353909465"
      ]
     },
     "execution_count": 292,
     "metadata": {},
     "output_type": "execute_result"
    }
   ],
   "source": [
    "#Initialzing and Fitting a k-NN model\n",
    "from sklearn.neighbors import KNeighborsClassifier \n",
    "knn=KNeighborsClassifier(n_neighbors=8)\n",
    "knn.fit(X_train[['Attempt','Completion','Yards','Yards per attempt','Touchdowns','Interceptions','Sack','Loss']],Y_train)\n",
    "\n",
    "# Checking the performance of our model on the testing data set\n",
    "accuracy_score(Y_test,knn.predict(X_test[['Attempt','Completion','Yards','Yards per attempt','Touchdowns','Interceptions','Sack','Loss']]))\n",
    "\n"
   ]
  },
  {
   "cell_type": "code",
   "execution_count": 269,
   "metadata": {},
   "outputs": [
    {
     "data": {
      "text/plain": [
       "0.7366255144032922"
      ]
     },
     "execution_count": 269,
     "metadata": {},
     "output_type": "execute_result"
    }
   ],
   "source": [
    "#Feature scaling \n",
    "from sklearn.preprocessing import MinMaxScaler\n",
    "min_max=MinMaxScaler()\n",
    "\n",
    "X_train_minmax=min_max.fit_transform(X_train[['Attempt', 'Completion', 'Yards', 'Yards per attempt', 'Touchdowns', 'Interceptions', 'Sack', 'Loss',]])\n",
    "\n",
    "X_test_minmax=min_max.fit_transform(X_test[['Attempt', 'Completion', 'Yards', 'Yards per attempt', 'Touchdowns', 'Interceptions', 'Sack', 'Loss',]])\n",
    "\n",
    "#applying  the scared data to knn=8\n",
    "\n",
    "knn=KNeighborsClassifier(n_neighbors=8)\n",
    "knn.fit(X_train_minmax,Y_train)\n",
    "accuracy_score(Y_test,knn.predict(X_test_minmax))"
   ]
  },
  {
   "cell_type": "code",
   "execution_count": null,
   "metadata": {},
   "outputs": [],
   "source": []
  },
  {
   "cell_type": "code",
   "execution_count": 270,
   "metadata": {},
   "outputs": [],
   "source": [
    "#PCA\n",
    "from sklearn.decomposition import PCA\n",
    "pca=PCA()\n",
    "X_train=pca.fit_transform(X_train)\n",
    "X_test=pca.transform(X_test)\n",
    "\n",
    "explained_variance=pca.explained_variance_ratio_\n",
    "pca=PCA(n_components=1)"
   ]
  },
  {
   "cell_type": "code",
   "execution_count": null,
   "metadata": {},
   "outputs": [],
   "source": []
  },
  {
   "cell_type": "code",
   "execution_count": null,
   "metadata": {},
   "outputs": [],
   "source": []
  },
  {
   "cell_type": "code",
   "execution_count": 271,
   "metadata": {},
   "outputs": [],
   "source": [
    "from sklearn.ensemble import RandomForestClassifier\n",
    "\n",
    "classifier = RandomForestClassifier(max_depth=2, random_state=0)  \n",
    "classifier.fit(X_train, Y_train)\n",
    "\n",
    "# Predicting the Test set results\n",
    "y_pred = classifier.predict(X_test)"
   ]
  },
  {
   "cell_type": "code",
   "execution_count": 216,
   "metadata": {
    "scrolled": true
   },
   "outputs": [
    {
     "name": "stdout",
     "output_type": "stream",
     "text": [
      "[[ 45  59]\n",
      " [ 10 129]]\n",
      "Accuracy: 0.7160493827160493\n"
     ]
    }
   ],
   "source": [
    "from sklearn.metrics import confusion_matrix  \n",
    "from sklearn.metrics import accuracy_score\n",
    "import numpy as np\n",
    "from sklearn import metrics\n",
    "cm = confusion_matrix(Y_test, y_pred)  \n",
    "print(cm)  \n",
    "print('Accuracy:', metrics.accuracy_score(Y_test, y_pred))"
   ]
  },
  {
   "cell_type": "code",
   "execution_count": 272,
   "metadata": {},
   "outputs": [],
   "source": [
    "#decision tree\n",
    "from sklearn import tree \n",
    "from sklearn.datasets import load_iris \n",
    "\n",
    "import numpy as np"
   ]
  },
  {
   "cell_type": "code",
   "execution_count": null,
   "metadata": {},
   "outputs": [],
   "source": []
  },
  {
   "cell_type": "code",
   "execution_count": 273,
   "metadata": {},
   "outputs": [
    {
     "name": "stdout",
     "output_type": "stream",
     "text": [
      "classification accu on train 1.0\n",
      "classification accu on test 0.6748971193415638\n"
     ]
    }
   ],
   "source": [
    "c = tree.DecisionTreeClassifier()\n",
    "c.fit(X_train, Y_train)\n",
    "accu_train = np.sum(c.predict(X_train) == Y_train) / float(Y_train.size)\n",
    "\n",
    "accu_test = np.sum(c.predict(X_test) == Y_test) / float(Y_test.size)\n",
    "print (\"classification accu on train\", accu_train) \n",
    "print (\"classification accu on test\", accu_test) "
   ]
  },
  {
   "cell_type": "code",
   "execution_count": null,
   "metadata": {},
   "outputs": [],
   "source": []
  },
  {
   "cell_type": "code",
   "execution_count": null,
   "metadata": {},
   "outputs": [],
   "source": []
  },
  {
   "cell_type": "code",
   "execution_count": null,
   "metadata": {},
   "outputs": [],
   "source": []
  },
  {
   "cell_type": "code",
   "execution_count": null,
   "metadata": {},
   "outputs": [],
   "source": []
  },
  {
   "cell_type": "code",
   "execution_count": null,
   "metadata": {},
   "outputs": [],
   "source": []
  },
  {
   "cell_type": "code",
   "execution_count": 274,
   "metadata": {},
   "outputs": [
    {
     "data": {
      "text/plain": [
       "DecisionTreeClassifier(class_weight=None, criterion='gini', max_depth=3,\n",
       "            max_features=None, max_leaf_nodes=None,\n",
       "            min_impurity_decrease=0.0, min_impurity_split=None,\n",
       "            min_samples_leaf=5, min_samples_split=2,\n",
       "            min_weight_fraction_leaf=0.0, presort=False, random_state=100,\n",
       "            splitter='best')"
      ]
     },
     "execution_count": 274,
     "metadata": {},
     "output_type": "execute_result"
    }
   ],
   "source": [
    "#decision tree \n",
    "from sklearn.tree import DecisionTreeClassifier \n",
    "from sklearn import tree\n",
    "\n",
    "\n",
    "clf_gini = DecisionTreeClassifier(criterion = \"gini\", random_state = 100,\n",
    "                               max_depth=3, min_samples_leaf=5)\n",
    "clf_gini.fit(X_train, Y_train)\n"
   ]
  },
  {
   "cell_type": "code",
   "execution_count": 293,
   "metadata": {},
   "outputs": [
    {
     "data": {
      "text/plain": [
       "DecisionTreeClassifier(class_weight=None, criterion='entropy', max_depth=3,\n",
       "            max_features=None, max_leaf_nodes=None,\n",
       "            min_impurity_decrease=0.0, min_impurity_split=None,\n",
       "            min_samples_leaf=5, min_samples_split=2,\n",
       "            min_weight_fraction_leaf=0.0, presort=False, random_state=100,\n",
       "            splitter='best')"
      ]
     },
     "execution_count": 293,
     "metadata": {},
     "output_type": "execute_result"
    }
   ],
   "source": [
    "\n",
    "clf_entropy = DecisionTreeClassifier(criterion = \"entropy\", random_state = 100,\n",
    " max_depth=3, min_samples_leaf=5)\n",
    "clf_entropy.fit(X_train, Y_train)\n"
   ]
  },
  {
   "cell_type": "code",
   "execution_count": 294,
   "metadata": {},
   "outputs": [
    {
     "name": "stdout",
     "output_type": "stream",
     "text": [
      "Gini Accuracy is: 0.7325102880658436\n"
     ]
    }
   ],
   "source": [
    "#gini index \n",
    "from sklearn.cross_validation import train_test_split \n",
    "from sklearn.tree import DecisionTreeClassifier \n",
    "from sklearn.metrics import accuracy_score\n",
    "from sklearn import tree\n",
    "\n",
    "clf_gini = DecisionTreeClassifier(criterion = \"gini\", random_state = 100, max_depth=3, min_samples_leaf=5)\n",
    "\n",
    "clf_gini.fit(X_train,Y_train)\n",
    "\n",
    "y_pred = clf_gini.predict(X_test)\n",
    "y_pred\n",
    "\n",
    "print(\"Gini Accuracy is:\", accuracy_score(Y_test, y_pred))"
   ]
  },
  {
   "cell_type": "code",
   "execution_count": 295,
   "metadata": {},
   "outputs": [
    {
     "name": "stdout",
     "output_type": "stream",
     "text": [
      "Information gain Accuracy is: 0.7325102880658436\n"
     ]
    }
   ],
   "source": [
    "#information gain\n",
    "clf_entropy = DecisionTreeClassifier(criterion = \"entropy\", random_state = 100, max_depth=3, min_samples_leaf=5)\n",
    "clf_entropy.fit(X_train, Y_train)\n",
    "\n",
    "y_pred_en = clf_entropy.predict(X_test)\n",
    "\n",
    "print(\"Information gain Accuracy is:\", accuracy_score(Y_test, y_pred_en))"
   ]
  },
  {
   "cell_type": "code",
   "execution_count": 308,
   "metadata": {},
   "outputs": [
    {
     "name": "stdout",
     "output_type": "stream",
     "text": [
      "Optimal number of features: 6\n",
      "Selected features: ['Attempt', 'Completion', 'Yards per attempt', 'Touchdowns', 'Interceptions', 'Sack']\n"
     ]
    },
    {
     "data": {
      "text/plain": [
       "<Figure size 432x288 with 0 Axes>"
      ]
     },
     "metadata": {},
     "output_type": "display_data"
    },
    {
     "data": {
      "image/png": "[encoded data removed]",
      "text/plain": [
       "<Figure size 720x432 with 1 Axes>"
      ]
     },
     "metadata": {},
     "output_type": "display_data"
    }
   ],
   "source": [
    "#feature selection\n",
    "from sklearn.feature_selection import RFECV\n",
    "# Create the RFE object and compute a cross-validated score.\n",
    "# The \"accuracy\" scoring is proportional to the number of correct classifications\n",
    "\n",
    "rfecv = RFECV(estimator=LogisticRegression(), step=1, cv=10, scoring='accuracy')\n",
    "rfecv.fit(X, Y)\n",
    "\n",
    "print(\"Optimal number of features: %d\" % rfecv.n_features_)\n",
    "print('Selected features: %s' % list(X.columns[rfecv.support_]))\n",
    "\n",
    "# Plot number of features VS. cross-validation scores\n",
    "import matplotlib.pyplot as plt\n",
    "%matplotlib inline\n",
    "plt.savefig('Features vs cross-validation scres')\n",
    "plt.figure(figsize=(10,6))\n",
    "plt.xlabel(\"Number of features selected\")\n",
    "plt.ylabel(\"Cross validation score (nb of correct classifications)\")\n",
    "plt.plot(range(1, len(rfecv.grid_scores_) + 1), rfecv.grid_scores_)\n",
    "plt.show()\n"
   ]
  },
  {
   "cell_type": "code",
   "execution_count": 311,
   "metadata": {},
   "outputs": [
    {
     "data": {
      "text/plain": [
       "array([[ 72,  32],\n",
       "       [ 18, 121]])"
      ]
     },
     "execution_count": 311,
     "metadata": {},
     "output_type": "execute_result"
    }
   ],
   "source": [
    "from sklearn import metrics\n",
    "y_pred=log.predict(X_test)\n",
    "cnf_matrix=metrics.confusion_matrix(Y_test, y_pred)\n",
    "cnf_matrix"
   ]
  },
  {
   "cell_type": "code",
   "execution_count": 309,
   "metadata": {},
   "outputs": [
    {
     "data": {
      "image/png": "[encoded data removed]",
      "text/plain": [
       "<Figure size 432x288 with 2 Axes>"
      ]
     },
     "metadata": {},
     "output_type": "display_data"
    }
   ],
   "source": [
    "class_names=[0,1] # name  of classes\n",
    "fig, ax = plt.subplots()\n",
    "tick_marks = np.arange(len(class_names))\n",
    "plt.xticks(tick_marks, class_names)\n",
    "plt.yticks(tick_marks, class_names)\n",
    "\n",
    "# create heatmap\n",
    "\n",
    "sns.heatmap(pd.DataFrame(cnf_matrix), annot=True, cmap=\"YlGnBu\" ,fmt='g')\n",
    "ax.xaxis.set_label_position(\"top\")\n",
    "plt.tight_layout()\n",
    "plt.title('Confusion matrix', y=1.1)\n",
    "plt.ylabel('Actual label')\n",
    "plt.xlabel('Predicted label')\n",
    "plt.savefig('confusion matrix')"
   ]
  },
  {
   "cell_type": "code",
   "execution_count": 299,
   "metadata": {},
   "outputs": [
    {
     "name": "stdout",
     "output_type": "stream",
     "text": [
      "Accuracy: 0.7942386831275721\n",
      "Precision: 0.7908496732026143\n",
      "Recall: 0.8705035971223022\n"
     ]
    }
   ],
   "source": [
    "print (\"Accuracy:\", metrics.accuracy_score(Y_test, y_pred))\n",
    "\n",
    "print (\"Precision:\", metrics.precision_score(Y_test, y_pred))\n",
    "\n",
    "print (\"Recall:\", metrics.recall_score(Y_test, y_pred))"
   ]
  },
  {
   "cell_type": "code",
   "execution_count": null,
   "metadata": {},
   "outputs": [],
   "source": []
  },
  {
   "cell_type": "code",
   "execution_count": null,
   "metadata": {},
   "outputs": [],
   "source": []
  },
  {
   "cell_type": "code",
   "execution_count": null,
   "metadata": {},
   "outputs": [],
   "source": []
  },
  {
   "cell_type": "code",
   "execution_count": null,
   "metadata": {},
   "outputs": [],
   "source": []
  },
  {
   "cell_type": "code",
   "execution_count": null,
   "metadata": {},
   "outputs": [],
   "source": []
  },
  {
   "cell_type": "code",
   "execution_count": null,
   "metadata": {},
   "outputs": [],
   "source": []
  },
  {
   "cell_type": "code",
   "execution_count": null,
   "metadata": {},
   "outputs": [],
   "source": []
  },
  {
   "cell_type": "code",
   "execution_count": null,
   "metadata": {},
   "outputs": [],
   "source": []
  }
 ],
 "metadata": {
  "kernelspec": {
   "display_name": "Python 3",
   "language": "python",
   "name": "python3"
  },
  "language_info": {
   "codemirror_mode": {
    "name": "ipython",
    "version": 3
   },
   "file_extension": ".py",
   "mimetype": "text/x-python",
   "name": "python",
   "nbconvert_exporter": "python",
   "pygments_lexer": "ipython3",
   "version": "3.6.5"
  }
 },
 "nbformat": 4,
 "nbformat_minor": 2
}
